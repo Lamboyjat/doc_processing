{
 "cells": [
  {
   "cell_type": "code",
   "execution_count": 1,
   "id": "c8787992",
   "metadata": {},
   "outputs": [
    {
     "name": "stderr",
     "output_type": "stream",
     "text": [
      "c:\\Users\\lamjat\\Documents\\Novia_Work_Projects\\2025\\enhanced_doc_processor\\.venv\\Lib\\site-packages\\tqdm\\auto.py:21: TqdmWarning: IProgress not found. Please update jupyter and ipywidgets. See https://ipywidgets.readthedocs.io/en/stable/user_install.html\n",
      "  from .autonotebook import tqdm as notebook_tqdm\n"
     ]
    }
   ],
   "source": [
    "from enhanced_document_processor import EnhancedDocumentProcessor"
   ]
  },
  {
   "cell_type": "code",
   "execution_count": 2,
   "id": "a8cdb228",
   "metadata": {},
   "outputs": [
    {
     "name": "stderr",
     "output_type": "stream",
     "text": [
      "INFO:docling.datamodel.document:detected formats: [<InputFormat.PDF: 'pdf'>]\n",
      "INFO:docling.document_converter:Going to convert document batch...\n",
      "INFO:docling.document_converter:Initializing pipeline for StandardPdfPipeline with options hash 30e4b58b80d3a81bb504b948c1b77af4\n",
      "INFO:docling.models.factories.base_factory:Loading plugin 'docling_defaults'\n",
      "INFO:docling.models.factories:Registered ocr engines: ['easyocr', 'ocrmac', 'rapidocr', 'tesserocr', 'tesseract']\n",
      "INFO:docling.utils.accelerator_utils:Accelerator device: 'cpu'\n",
      "INFO:docling.utils.accelerator_utils:Accelerator device: 'cpu'\n",
      "INFO:docling.models.factories.base_factory:Loading plugin 'docling_defaults'\n",
      "INFO:docling.models.factories:Registered picture descriptions: ['vlm', 'api']\n",
      "INFO:docling.pipeline.base_pipeline:Processing document wartsila46f-project-guide.pdf\n",
      "INFO:docling.document_converter:Finished converting document wartsila46f-project-guide.pdf in 343.61 sec.\n"
     ]
    },
    {
     "name": "stdout",
     "output_type": "stream",
     "text": [
      "DEBUG: formatted_content type = <class 'str'>, len = 7293060\n",
      "DEBUG: Created RAGDocument type = <class 'dict'>, id = wartsila46f-project-guide.pdf\n",
      "Content: <div className=\"image_wrapper\" bbox=\"[27.94297981262207, 21.117963790893555, 128.9083709716797, 83.47045135498047]\" page_index=\"0\"><img className=\"\" src=\"data:image/png;base64,iVBORw0KGgoAAAANSUhEUgAAAGUAAAA+CAIAAAC9V0KsAAAT+UlEQVR4nO1bCVgUR/av7rlnGI7hGuZiBma4YbiUQ0E5FQFPIoo5zLXZZHOabPIlG5ONSdx/Nptk/9l4JcZdE92EeIAiCgoIKIiiXKLAMICAIvcx99HTvV9PEyRINgbdxWN/X339QVX1m6pfv3r13utqCMMw8D/cMsjg/gKGYSNdTYhmGEAQQC0Ue669wAu6c/Kh+0a/EKO+u+aEYbSfzuGxbGwBBKGIeXSoz6weYtk68EKS6HZOt/8r9wlfA+0X+5sqnWXhDkJvCsNmoh5D...\n",
      "Metadata: {'file_path': 'data/wartsila46f-project-guide.pdf', 'file_type': '.pdf', 'file_size': 8338579, 'original_mime_type': 'application/pdf', 'processing_method': 'docling', 'output_format': 'html', 'docling_metadata': {'page_count': 150, 'has_images': True, 'has_tables': True}}\n",
      "Format: text/html\n",
      "Pages: 150\n",
      "Has images: True\n",
      "Has tables: True\n",
      "Processing method: docling\n"
     ]
    }
   ],
   "source": [
    "# Initialize processor with HTML output\n",
    "processor = EnhancedDocumentProcessor(\n",
    "    output_format='html',\n",
    "    preserve_images=True,\n",
    "    preserve_tables=True,\n",
    "    enable_ocr=False\n",
    ")\n",
    "\n",
    "# Process a document\n",
    "rag_doc = processor.create_rag_document_from_file('data/wartsila46f-project-guide.pdf')\n",
    "if rag_doc:\n",
    "    # Handle RAGDocument as either dict (from llama_stack_client) or object (fallback)\n",
    "    content = rag_doc['content'] if isinstance(rag_doc, dict) else rag_doc.content\n",
    "    mime_type = rag_doc['mime_type'] if isinstance(rag_doc, dict) else rag_doc.mime_type\n",
    "    metadata = rag_doc['metadata'] if isinstance(rag_doc, dict) else rag_doc.metadata\n",
    "        \n",
    "    print(f\"Content: {content[:500]}...\")\n",
    "    print(f\"Metadata: {metadata}\")\n",
    "    print(f\"Format: {mime_type}\")  # text/html or text/plain\n",
    "\n",
    "    # METADATA\n",
    "    print(f\"Pages: {metadata['docling_metadata']['page_count']}\")\n",
    "    print(f\"Has images: {metadata['docling_metadata']['has_images']}\")\n",
    "    print(f\"Has tables: {metadata['docling_metadata']['has_tables']}\")\n",
    "    print(f\"Processing method: {metadata['processing_method']}\")  # 'docling'"
   ]
  }
 ],
 "metadata": {
  "kernelspec": {
   "display_name": ".venv",
   "language": "python",
   "name": "python3"
  },
  "language_info": {
   "codemirror_mode": {
    "name": "ipython",
    "version": 3
   },
   "file_extension": ".py",
   "mimetype": "text/x-python",
   "name": "python",
   "nbconvert_exporter": "python",
   "pygments_lexer": "ipython3",
   "version": "3.12.10"
  }
 },
 "nbformat": 4,
 "nbformat_minor": 5
}
